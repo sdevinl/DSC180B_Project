{
 "cells": [
  {
   "cell_type": "code",
   "execution_count": 1,
   "metadata": {},
   "outputs": [],
   "source": [
    "from src.data.make_dataset import *"
   ]
  },
  {
   "cell_type": "code",
   "execution_count": 2,
   "metadata": {},
   "outputs": [],
   "source": [
    "data, edges = make_data()"
   ]
  },
  {
   "cell_type": "code",
   "execution_count": 5,
   "metadata": {},
   "outputs": [],
   "source": [
    "from src.features.build_features import *"
   ]
  },
  {
   "cell_type": "code",
   "execution_count": null,
   "metadata": {},
   "outputs": [],
   "source": [
    "features, adj, labels = build_features(data, edges)"
   ]
  },
  {
   "cell_type": "code",
   "execution_count": null,
   "metadata": {},
   "outputs": [],
   "source": []
  },
  {
   "cell_type": "code",
   "execution_count": null,
   "metadata": {},
   "outputs": [],
   "source": []
  },
  {
   "cell_type": "code",
   "execution_count": null,
   "metadata": {},
   "outputs": [],
   "source": [
    "import pandas as pd\n",
    "import numpy as np"
   ]
  },
  {
   "cell_type": "code",
   "execution_count": null,
   "metadata": {},
   "outputs": [],
   "source": [
    "abbr = [\n",
    "    'PHO', 'DAL', 'POR', 'OKC', 'DEN', 'MEM', 'WAS', 'MIA', 'BRK', 'CLE', 'TOR', \n",
    "    'NOP', 'HOU', 'IND', 'LAC', 'PHI', 'SAC', 'UTA', 'LAL', 'BOS', 'ORL', 'MIL', \n",
    "    'SAS', 'ATL', 'GSW', 'CHI', 'NYK', 'DET', 'MIN', 'CHO'\n",
    "]"
   ]
  },
  {
   "cell_type": "code",
   "execution_count": null,
   "metadata": {},
   "outputs": [],
   "source": [
    "years = [11, 12, 13, 14, 15, 16, 17, 18, 19]\n",
    "\n",
    "data = pd.DataFrame()\n",
    "edges = pd.DataFrame()\n",
    "\n",
    "id_r = np.array(list(range(0, 30, 1)))\n",
    "\n",
    "for yr in years:\n",
    "    fp1 = 'data/features/feat20' + str(yr) + '.csv'\n",
    "    fp2 = 'data/schedule/sch20' + str(yr)\n",
    "    \n",
    "    curr = pd.read_csv(fp1)\n",
    "    \n",
    "    curr['id'] = curr['Tm'].map(dict(zip(abbr, id_r)))\n",
    "    \n",
    "    data = data.append(curr)\n",
    "    \n",
    "    curr_edge = pd.read_csv(fp2)\n",
    "    \n",
    "    curr_edge['Home'] = curr_edge['Home'].map(dict(zip(abbr, id_r)))\n",
    "    curr_edge['Away'] = curr_edge['Away'].map(dict(zip(abbr, id_r)))\n",
    "    \n",
    "    edges = edges.append(curr_edge)\n",
    "    \n",
    "    id_r = id_r + 30"
   ]
  },
  {
   "cell_type": "code",
   "execution_count": null,
   "metadata": {},
   "outputs": [],
   "source": [
    "nodes = list(data['id'])"
   ]
  },
  {
   "cell_type": "code",
   "execution_count": null,
   "metadata": {},
   "outputs": [],
   "source": [
    "edge_list = edges.values.tolist()"
   ]
  },
  {
   "cell_type": "code",
   "execution_count": null,
   "metadata": {},
   "outputs": [],
   "source": [
    "import networkx as nx\n",
    "\n",
    "G = nx.Graph()\n",
    "G.add_nodes_from(nodes)\n",
    "G.add_edges_from(edge_list)\n",
    "\n",
    "# A = nx.adjacency_matrix(G)\n",
    "\n",
    "import matplotlib.pyplot as plt\n",
    "\n",
    "plt.figure(figsize=(10,10))\n",
    "nx.draw(G, node_size=10, edge_size=1)\n",
    "plt.show()"
   ]
  },
  {
   "cell_type": "code",
   "execution_count": null,
   "metadata": {},
   "outputs": [],
   "source": [
    "A = nx.adjacency_matrix(G)"
   ]
  },
  {
   "cell_type": "code",
   "execution_count": null,
   "metadata": {},
   "outputs": [],
   "source": [
    "labels = list(data['Rk'])\n",
    "labels = np.array(labels)"
   ]
  },
  {
   "cell_type": "code",
   "execution_count": null,
   "metadata": {},
   "outputs": [],
   "source": [
    "X = data.drop(['Tm', 'Rk', 'id'], axis=1).to_numpy()"
   ]
  },
  {
   "cell_type": "code",
   "execution_count": null,
   "metadata": {},
   "outputs": [],
   "source": [
    "import torch"
   ]
  },
  {
   "cell_type": "code",
   "execution_count": null,
   "metadata": {},
   "outputs": [],
   "source": [
    "adj = torch.Tensor(A.toarray())"
   ]
  },
  {
   "cell_type": "code",
   "execution_count": null,
   "metadata": {},
   "outputs": [],
   "source": [
    "features = torch.Tensor(X)"
   ]
  },
  {
   "cell_type": "code",
   "execution_count": null,
   "metadata": {},
   "outputs": [],
   "source": [
    "labels = torch.Tensor(labels)"
   ]
  },
  {
   "cell_type": "code",
   "execution_count": null,
   "metadata": {},
   "outputs": [],
   "source": [
    "import torch.optim as optim\n",
    "import time"
   ]
  },
  {
   "cell_type": "code",
   "execution_count": null,
   "metadata": {},
   "outputs": [],
   "source": [
    "import torch.nn as nn\n",
    "import torch.nn.functional as F\n",
    "import math\n",
    "import torch\n",
    "from torch.nn.parameter import Parameter\n",
    "from torch.nn.modules.module import Module\n",
    "import argparse\n",
    "\n",
    "class GraphConvolution(Module):\n",
    "    \"\"\"\n",
    "    Simple GCN layer, similar to https://arxiv.org/abs/1609.02907\n",
    "    \"\"\"\n",
    "\n",
    "    def __init__(self, in_features, out_features, bias=True):\n",
    "        super(GraphConvolution, self).__init__()\n",
    "        self.in_features = in_features\n",
    "        self.out_features = out_features\n",
    "        self.weight = Parameter(torch.FloatTensor(in_features, out_features))\n",
    "        if bias:\n",
    "            self.bias = Parameter(torch.FloatTensor(out_features))\n",
    "        else:\n",
    "            self.register_parameter('bias', None)\n",
    "        self.reset_parameters()\n",
    "\n",
    "    def reset_parameters(self):\n",
    "        stdv = 1. / math.sqrt(self.weight.size(1))\n",
    "        self.weight.data.uniform_(-stdv, stdv)\n",
    "        if self.bias is not None:\n",
    "            self.bias.data.uniform_(-stdv, stdv)\n",
    "\n",
    "    def forward(self, input, adj):\n",
    "        support = torch.mm(input, self.weight)\n",
    "        output = torch.spmm(adj, support)\n",
    "        if self.bias is not None:\n",
    "            return output + self.bias\n",
    "        else:\n",
    "            return output\n",
    "\n",
    "    def __repr__(self):\n",
    "        return self.__class__.__name__ + ' (' \\\n",
    "               + str(self.in_features) + ' -> ' \\\n",
    "               + str(self.out_features) + ')'\n",
    "\n",
    "\n",
    "class GCN(nn.Module):\n",
    "    def __init__(self, nfeat, nhid, nclass, dropout):\n",
    "        super(GCN, self).__init__()\n",
    "\n",
    "        self.gc1 = GraphConvolution(nfeat, nhid)\n",
    "        self.gc2 = GraphConvolution(nhid, nclass)\n",
    "        self.dropout = dropout\n",
    "\n",
    "    def forward(self, x, adj):\n",
    "        x = F.relu(self.gc1(x, adj))\n",
    "        x = F.dropout(x, self.dropout, training=self.training)\n",
    "        x = self.gc2(x, adj)\n",
    "        return F.log_softmax(x, dim=1)"
   ]
  },
  {
   "cell_type": "code",
   "execution_count": null,
   "metadata": {},
   "outputs": [],
   "source": [
    "class GCN_Trainer(object):\n",
    "    def __init__(self, features, adj, labels):\n",
    "        #do something\n",
    "        self.model = GCN(nfeat=features.shape[1],\n",
    "                        nhid=16,\n",
    "                        nclass=len(labels.unique()) + 1,\n",
    "                        dropout=0.5)\n",
    "        self.optimizer = optim.Adam(self.model.parameters(),\n",
    "                                   lr=.01, weight_decay=5e-4)\n",
    "        self.features = features\n",
    "        self.adj = adj\n",
    "        self.labels = labels\n",
    "\n",
    "    \n",
    "    def train(self, epoch):\n",
    "        t = time.time()\n",
    "        self.model.train()\n",
    "        self.optimizer.zero_grad()\n",
    "        output = self.model(self.features, self.adj)\n",
    "    \n",
    "        print(output.shape, self.labels.shape)\n",
    "    \n",
    "        loss = nn.CrossEntropyLoss()\n",
    "        loss_train = loss(output, self.labels.type(torch.LongTensor))\n",
    "        acc_train = self.accuracy(output, self.labels)\n",
    "        loss_train.backward()\n",
    "        self.optimizer.step()\n",
    "\n",
    "\n",
    "        loss_val = loss(output, self.labels.type(torch.LongTensor))\n",
    "        acc_val = accuracy(output, self.labels)\n",
    "    \n",
    "        print('Epoch: {:04d}'.format(epoch+1),\n",
    "              'loss_train: {:.4f}'.format(loss_train.item()),\n",
    "              'acc_train: {:.4f}'.format(acc_train.item()),\n",
    "              'loss_val: {:.4f}'.format(loss_val.item()),\n",
    "              'acc_val: {:.4f}'.format(acc_val.item()),\n",
    "              'time: {:.4f}s'.format(time.time() - t)) \n",
    "        \n",
    "    def test(self):\n",
    "        self.model.eval()\n",
    "        output = self.model(features, adj)\n",
    "        loss = nn.CrossEntropyLoss()\n",
    "        loss_test = loss(output, self.labels.type(torch.LongTensor))\n",
    "        acc_test = accuracy(output, self.labels)\n",
    "    \n",
    "        print(\"Test set results:\",\n",
    "              \"loss= {:.4f}\".format(loss_test.item()),\n",
    "              \"accuracy= {:.4f}\".format(acc_test.item()))\n",
    "        \n",
    "    def complete_train(self):\n",
    "        t_total = time.time()\n",
    "        for epoch in range(100):\n",
    "            self.train(epoch)\n",
    "        print(\"Optimization Finished!\")\n",
    "        print(\"Total time elapsed: {:.4f}s\".format(time.time() - t_total))\n",
    "\n",
    "        # Testing\n",
    "        self.test()\n",
    "        \n",
    "    def accuracy(self, output, labels):\n",
    "        preds = output.max(1)[1].type_as(labels)\n",
    "        correct = preds.eq(labels).double()\n",
    "        correct = correct.sum()\n",
    "        return correct / len(labels)"
   ]
  },
  {
   "cell_type": "code",
   "execution_count": null,
   "metadata": {},
   "outputs": [],
   "source": [
    "trainer = GCN_Trainer(features, adj, labels)\n",
    "\n",
    "trainer.complete_train()"
   ]
  }
 ],
 "metadata": {
  "kernelspec": {
   "display_name": "Python 3",
   "language": "python",
   "name": "python3"
  },
  "language_info": {
   "codemirror_mode": {
    "name": "ipython",
    "version": 3
   },
   "file_extension": ".py",
   "mimetype": "text/x-python",
   "name": "python",
   "nbconvert_exporter": "python",
   "pygments_lexer": "ipython3",
   "version": "3.8.3"
  }
 },
 "nbformat": 4,
 "nbformat_minor": 4
}
