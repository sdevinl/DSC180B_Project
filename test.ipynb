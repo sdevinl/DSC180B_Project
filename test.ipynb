{
 "cells": [
  {
   "cell_type": "code",
   "execution_count": 1,
   "metadata": {},
   "outputs": [],
   "source": [
    "from src.models.GCN import *\n",
    "from src.features.build_features import *"
   ]
  },
  {
   "cell_type": "code",
   "execution_count": 2,
   "metadata": {},
   "outputs": [
    {
     "name": "stderr",
     "output_type": "stream",
     "text": [
      "/Users/aureliobarrios/DSC180B_Project/src/features/build_features.py:48: UserWarning: No parser was explicitly specified, so I'm using the best available HTML parser for this system (\"lxml\"). This usually isn't a problem, but if you run this code on another system, or in a different virtual environment, it may use a different parser and behave differently.\n",
      "\n",
      "The code that caused this warning is on line 48 of the file /Users/aureliobarrios/DSC180B_Project/src/features/build_features.py. To get rid of this warning, pass the additional argument 'features=\"lxml\"' to the BeautifulSoup constructor.\n",
      "\n",
      "  soup = BeautifulSoup(html)\n"
     ]
    }
   ],
   "source": [
    "stats = get_season_stats(2011)\n",
    "rankings = get_season_ranks(2011)"
   ]
  },
  {
   "cell_type": "code",
   "execution_count": 3,
   "metadata": {},
   "outputs": [],
   "source": [
    "features, labels = get_features(2011)"
   ]
  },
  {
   "cell_type": "code",
   "execution_count": 4,
   "metadata": {},
   "outputs": [],
   "source": [
    "adj = get_adjacency(2011)"
   ]
  },
  {
   "cell_type": "code",
   "execution_count": null,
   "metadata": {},
   "outputs": [],
   "source": []
  },
  {
   "cell_type": "code",
   "execution_count": null,
   "metadata": {},
   "outputs": [],
   "source": []
  },
  {
   "cell_type": "code",
   "execution_count": null,
   "metadata": {},
   "outputs": [],
   "source": []
  },
  {
   "cell_type": "code",
   "execution_count": null,
   "metadata": {},
   "outputs": [],
   "source": [
    "from basketball_reference_scraper.seasons import get_schedule\n",
    "\n",
    "# from basketball_reference_scraper.teams import get_roster_stats\n",
    "\n",
    "# from basketball_reference_scraper.players import get_stats\n",
    "\n",
    "# from basketball_reference_scraper.utils import get_player_suffix\n",
    "\n",
    "# from basketball_reference_scraper.lookup import levenshtein\n",
    "\n",
    "from urllib.request import urlopen\n",
    "from bs4 import BeautifulSoup\n",
    "import numpy as np\n",
    "import pandas as pd\n",
    "from requests import get\n",
    "from bs4 import BeautifulSoup"
   ]
  },
  {
   "cell_type": "code",
   "execution_count": null,
   "metadata": {},
   "outputs": [],
   "source": [
    "abbrev = {'ATLANTA HAWKS' : 'ATL',\n",
    "'ST. LOUIS HAWKS' : 'SLH',\n",
    "'MILWAUKEE HAWKS' : 'MIL',\n",
    "'TRI-CITIES BLACKHAWKS' : 'TCB',\n",
    "'BOSTON CELTICS' : 'BOS',\n",
    "'BROOKLYN NETS' : 'BRK',\n",
    "'NEW JERSEY NETS' : 'NJN',\n",
    "'CHICAGO BULLS' : 'CHI',\n",
    "'CHARLOTTE HORNETS (1988-2004)': 'CHH',\n",
    "'CHARLOTTE HORNETS (2014-Present)': 'CHO',\n",
    "'CHARLOTTE HORNETS': 'CHO',\n",
    "'CHARLOTTE BOBCATS' : 'CHA',\n",
    "'CLEVELAND CAVALIERS' : 'CLE',\n",
    "'DALLAS MAVERICKS': 'DAL',\n",
    "'DENVER NUGGETS' : 'DEN',\n",
    "'DETROIT PISTONS' : 'DET',\n",
    "'FORT WAYNE PISTONS' : 'FWP',\n",
    "'GOLDEN STATE WARRIORS' : 'GSW',\n",
    "'SAN FRANCISCO WARRIORS' : 'SFW',\n",
    "'PHILADELPHIA WARRIORS' : 'PHI',\n",
    "'HOUSTON ROCKETS' : 'HOU',\n",
    "'INDIANA PACERS' : 'IND',\n",
    "'LOS ANGELES CLIPPERS' : 'LAC',\n",
    "'SAN DIEGO CLIPPERS' : 'SDC',\n",
    "'BUFFALO BRAVES' : 'BUF',\n",
    "'LOS ANGELES LAKERS' : 'LAL',\n",
    "'MINNEAPOLIS LAKERS' : 'MIN',\n",
    "'MEMPHIS GRIZZLIES' : 'MEM',\n",
    "'VANCOUVER GRIZZLIES' : 'VAN',\n",
    "'MIAMI HEAT' : 'MIA',\n",
    "'MILWAUKEE BUCKS' : 'MIL',\n",
    "'MINNESOTA TIMBERWOLVES' : 'MIN',\n",
    "'NEW ORLEANS PELICANS' : 'NOP',\n",
    "'NEW ORLEANS/OKLAHOMA CITY HORNETS' : 'NOK',\n",
    "'NEW ORLEANS HORNETS' : 'NOH',\n",
    "'NEW YORK KNICKS' : 'NYK',\n",
    "'OKLAHOMA CITY THUNDER' : 'OKC',\n",
    "'SEATTLE SUPERSONICS' : 'SEA',\n",
    "'ORLANDO MAGIC' : 'ORL',\n",
    "'PHILADELPHIA 76ERS' : 'PHI',\n",
    "'SYRACUSE NATIONALS' : 'SYR',\n",
    "'PHOENIX SUNS' : 'PHO',\n",
    "'PORTLAND TRAIL BLAZERS' : 'POR',\n",
    "'SACRAMENTO KINGS' : 'SAC',\n",
    "'KANSAS CITY KINGS' : 'KCK',\n",
    "'KANSAS CITY-OMAHA KINGS' : 'KCK',\n",
    "'CINCINNATI ROYALS' : 'CIN',\n",
    "'ROCHESTER ROYALS' : 'ROR',\n",
    "'SAN ANTONIO SPURS' : 'SAS',\n",
    "'TORONTO RAPTORS' : 'TOR',\n",
    "'UTAH JAZZ' : 'UTA',\n",
    "'NEW ORLEANS JAZZ' : 'NOJ',\n",
    "'WASHINGTON WIZARDS' : 'WAS',\n",
    "'WASHINGTON BULLETS' : 'WAS',\n",
    "'CAPITAL BULLETS' : 'CAP',\n",
    "'BALTIMORE BULLETS' : 'BAL',\n",
    "'CHICAGO ZEPHYRS' : 'CHI',\n",
    "'CHICAGO PACKERS' : 'CHI',\n",
    "'ANDERSON PACKERS' : 'AND',\n",
    "'CHICAGO STAGS' : 'CHI',\n",
    "'INDIANAPOLIS OLYMPIANS' : 'IND',\n",
    "'SHEBOYGAN RED SKINS' : 'SRS',\n",
    "'ST. LOUIS BOMBERS' : 'SLB',\n",
    "'WASHINGTON CAPITOLS' : 'WAS',\n",
    "'WATERLOO HAWKS' : 'WAT'}\n",
    "\n",
    "# Make adj matrix\n",
    "id2idx = {'PHO': 0,\n",
    " 'DAL': 1,\n",
    " 'POR': 2,\n",
    " 'OKC': 3,\n",
    " 'DEN': 4,\n",
    " 'MEM': 5,\n",
    " 'WAS': 6,\n",
    " 'MIA': 7,\n",
    " 'BRK': 8,\n",
    " 'CLE': 9,\n",
    " 'TOR': 10,\n",
    " 'NOP': 11,\n",
    " 'HOU': 12,\n",
    " 'IND': 13,\n",
    " 'LAC': 14,\n",
    " 'PHI': 15,\n",
    " 'SAC': 16,\n",
    " 'UTA': 17,\n",
    " 'LAL': 18,\n",
    " 'BOS': 19,\n",
    " 'ORL': 20,\n",
    " 'MIL': 21,\n",
    " 'SAS': 22,\n",
    " 'ATL': 23,\n",
    " 'GSW': 24,\n",
    " 'CHI': 25,\n",
    " 'NYK': 26,\n",
    " 'DET': 27,\n",
    " 'MIN': 28,\n",
    " 'CHO': 29\n",
    "}\n"
   ]
  },
  {
   "cell_type": "code",
   "execution_count": null,
   "metadata": {},
   "outputs": [],
   "source": [
    "def get_season_stats(season):\n",
    "    # NBA season we will be analyzing\n",
    "    year = season\n",
    "    # URL page we will scraping (see image above)\n",
    "    url = \"https://www.basketball-reference.com/leagues/NBA_{}_per_game.html\".format(year)\n",
    "    # this is the HTML from the given URL\n",
    "    html = urlopen(url)\n",
    "    soup = BeautifulSoup(html)\n",
    "\n",
    "    #organize it into a list:\n",
    "    # use findALL() to get the column headers\n",
    "    soup.findAll('tr', limit=2)\n",
    "    # use getText()to extract the text we need into a list\n",
    "    headers = [th.getText() for th in soup.findAll('tr', limit=2)[0].findAll('th')]\n",
    "    # exclude the first column as we will not need the ranking order from Basketball Reference for the analysis\n",
    "    headers = headers[1:]\n",
    "\n",
    "\n",
    "    # avoid the first header row\n",
    "    rows = soup.findAll('tr')[1:]\n",
    "    player_stats = [[td.getText() for td in rows[i].findAll('td')]\n",
    "                for i in range(len(rows))]\n",
    "\n",
    "    stats = pd.DataFrame(player_stats, columns = headers)\n",
    "    return stats"
   ]
  },
  {
   "cell_type": "code",
   "execution_count": null,
   "metadata": {},
   "outputs": [],
   "source": [
    "def get_season_ranks(season):\n",
    "    rankings = pd.read_csv('data/ranks/rank{}.csv'.format(season))\n",
    "    rankings['Team'] = rankings['Team'].apply(lambda x: abbrev[x.upper()])\n",
    "    rankings = rankings.set_index('Team').drop(columns=['Overall'])\n",
    "    return rankings"
   ]
  },
  {
   "cell_type": "code",
   "execution_count": null,
   "metadata": {},
   "outputs": [],
   "source": [
    "stats = get_season_stats(2011)\n",
    "rankings = get_season_ranks(2011)"
   ]
  },
  {
   "cell_type": "code",
   "execution_count": null,
   "metadata": {},
   "outputs": [],
   "source": [
    "features = pd.read_csv('data/features/feat2011.csv')\n",
    "\n",
    "\n",
    "features = features.set_index(features['Tm'].map(id2idx)).drop(columns=['Tm'])\n",
    "features = features.sort_index()\n",
    "\n",
    "labels = torch.Tensor(features['Rk'].to_numpy())\n",
    "features = torch.Tensor(features.drop(columns='Rk').to_numpy())"
   ]
  },
  {
   "cell_type": "code",
   "execution_count": null,
   "metadata": {},
   "outputs": [],
   "source": [
    "sc11 = pd.read_csv('data/schedule/sch2011')\n",
    "\n",
    "adj = np.zeros((30, 30), dtype='float32')\n",
    "\n",
    "rows = sc11['Home']\n",
    "cols = sc11['Away']\n",
    "\n",
    "for i in np.arange(len(sc11)):\n",
    "    adj[ id2idx[rows[i]], id2idx[cols[i]]] = adj[ id2idx[rows[i]], id2idx[cols[i]]] + 1.0\n",
    "    \n",
    "adj = torch.Tensor(adj)"
   ]
  },
  {
   "cell_type": "code",
   "execution_count": null,
   "metadata": {},
   "outputs": [],
   "source": [
    "import torch.optim as optim\n",
    "import time\n"
   ]
  },
  {
   "cell_type": "code",
   "execution_count": null,
   "metadata": {},
   "outputs": [],
   "source": [
    "model = GCN(nfeat=features.shape[1],\n",
    "            nhid=16,\n",
    "            nclass=len(labels) + 1,\n",
    "            dropout=.5)\n",
    "\n",
    "optimizer = optim.Adam(model.parameters(),\n",
    "                       lr=.01, weight_decay=5e-4)\n",
    "\n",
    "# Train model\n",
    "t_total = time.time()\n",
    "for epoch in range(100):\n",
    "    train(epoch)\n",
    "print(\"Optimization Finished!\")\n",
    "print(\"Total time elapsed: {:.4f}s\".format(time.time() - t_total))\n",
    "\n",
    "# Testing\n",
    "test()"
   ]
  },
  {
   "cell_type": "code",
   "execution_count": null,
   "metadata": {},
   "outputs": [],
   "source": []
  },
  {
   "cell_type": "code",
   "execution_count": null,
   "metadata": {},
   "outputs": [],
   "source": []
  },
  {
   "cell_type": "code",
   "execution_count": null,
   "metadata": {},
   "outputs": [],
   "source": []
  }
 ],
 "metadata": {
  "kernelspec": {
   "display_name": "Python 3",
   "language": "python",
   "name": "python3"
  },
  "language_info": {
   "codemirror_mode": {
    "name": "ipython",
    "version": 3
   },
   "file_extension": ".py",
   "mimetype": "text/x-python",
   "name": "python",
   "nbconvert_exporter": "python",
   "pygments_lexer": "ipython3",
   "version": "3.8.3"
  }
 },
 "nbformat": 4,
 "nbformat_minor": 4
}
